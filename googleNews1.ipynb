{
 "cells": [
  {
   "cell_type": "code",
   "execution_count": 115,
   "metadata": {},
   "outputs": [
    {
     "name": "stdout",
     "output_type": "stream",
     "text": [
      "{'status': 'ok', 'totalResults': 683, 'articles': [{'source': {'id': 'the-guardian-au', 'name': 'The Guardian (AU)'}, 'author': 'Jake Hulyer', 'title': 'Inside the booming business of background music', 'description': 'Once derided, the successors to muzak have grown more sophisticated – and influential – than any of us realise. By Jake Hulyer Not long ago, Rob Wood found himself at Heston Blumenthal’s house, in south-west London, where he was being persuaded to eat a flowe…', 'url': 'https://www.theguardian.com/news/2018/nov/06/inside-the-booming-business-of-background-music', 'urlToImage': 'https://i.guim.co.uk/img/media/56a6105d92f52ef3bfafbd74a732af4dbb3c4a76/2_0_10413_6250/master/10413.png?width=1200&height=630&quality=85&auto=format&fit=crop&overlay-align=bottom%2Cleft&overlay-width=100p&overlay-base64=L2ltZy9zdGF0aWMvb3ZlcmxheXMvdGctZGVmYXVsdC5wbmc&s=df7ddff643af60dbb7f7fbbd9cfd50c3', 'publishedAt': '2018-11-06T06:00:25Z', 'content': 'N ot long ago, Rob Wood found himself at Heston Blumenthals house, in south-west London, where he was being persuaded to eat a flower. They were supposed to have been discussing the TV chefs latest project, testing musics effects on the dining experience, for… [+24525 chars]'}, {'source': {'id': None, 'name': 'Hipertextual.com'}, 'author': 'Nicolás Rivera', 'title': 'Amazon lanza el asistente Alexa y los altavoces Echo en México', 'description': 'El gigante del comercio electrónico anuncia la llegada de sus equipos inteligentes al país hispanohablante. El anuncio se produce apenas dos semanas después del lanzamiento en España e Italia. Echo, Echo Dot, Echo Plus y Echo Spot. Esos son los cuatro equipos…', 'url': 'https://hipertextual.com/2018/11/amazon-lanza-asistente-alexa-altavoces-echo-mexico', 'urlToImage': 'https://hipertextual.com/files/2018/11/Amazon-Echo-Plus.jpg', 'publishedAt': '2018-11-07T17:19:07Z', 'content': 'Echo, Echo Dot, Echo Plus y Echo Spot. Esos son los cuatro equipos con los que el asistente virtual Alexa aterriza, por fin, en México. Los altavoces ya están a la venta en la web mexicana de Amazon, aunque los primeros envíos no se producirán hasta el próxim… [+678 chars]'}, {'source': {'id': 'usa-today', 'name': 'USA Today'}, 'author': 'USA TODAY, Eli Blumenthal, USA TODAY', 'title': 'After a long wait, Spotify finally arrives on the Apple Watch', 'description': \"It's about time that Spotify came out with an app for the Apple Watch.\", 'url': 'https://www.usatoday.com/story/tech/talkingtech/2018/11/13/spotify-finally-arrives-apple-watch/1987298002/?utm_source=google&utm_medium=amp&utm_campaign=speakabl', 'urlToImage': 'https://www.gannett-cdn.com/presto/2018/11/13/USAT/04b32f07-9937-4acd-8d91-107d5449b078-Spotify_apple_watch.jpg?crop=1709,959,x56,y0&width=3200&height=1680&fit=bounds', 'publishedAt': '2018-11-13T16:35:14Z', 'content': \"Apple Watch owners who prefer Spotify over Apple Music finally have an alternative. After a long wait, Spotify has updated its iOS app to add support for Apple's wearable, allowing its users to stream music, change tracks, listen to podcasts and connect to sp… [+1600 chars]\"}, {'source': {'id': None, 'name': 'Digitaltrends.com'}, 'author': 'Clayton Moore', 'title': 'Pandora Premium joins Alexa’s Amazon dance party today', 'description': 'Amazon has just upped its music game for its popular Echo, Echo Dot, and Echo Show smart speakers by adding a new integration that allows users to play music from Pandora Premium, the ad-free music streaming service that can now be controlled by using voice c…', 'url': 'https://www.digitaltrends.com/home/pandora-premium-integration-alexa/', 'urlToImage': 'https://icdn3.digitaltrends.com/image/amazon-red-echo-1200x630-c-ar1.91.jpg', 'publishedAt': '2018-11-19T20:01:00Z', 'content': 'For $10 a month, you can now enjoy the soothing sounds of Michael Bublé or the heartwarming nightmare that is Whams Last Christmas and make all your friends lose Whamageddon by playing Pandora Premium on your Amazon Alexa-powered device. The premium, ad-free … [+2512 chars]'}, {'source': {'id': None, 'name': 'Genbeta.com'}, 'author': 'Antonio Sabán', 'title': 'Las mejores ofertas del Cyber Monday 2018 en VPN, software, servicios, cursos y más', 'description': 'Después de la vorágine de la semana del Black Friday llega el Cyber Monday o Ciberlunes, que nació en 2005 con idea de potenciar la venta por Internet, ya que el viernes seguía siendo más importante para los comercios. A día de hoy conviven ambas fechas, con …', 'url': 'https://www.genbeta.com/actualidad/mejores-ofertas-cyber-monday-2018-vpn-software-servicios-cursos', 'urlToImage': 'https://i.blogs.es/22aa93/cyber-monday/840_560.jpg', 'publishedAt': '2018-11-26T12:00:48Z', 'content': 'Después de la vorágine de la semana del Black Friday llega el Cyber Monday o Ciberlunes, que nació en 2005 con idea de potenciar la venta por Internet, ya que el viernes seguía siendo más importante para los comercios. A día de hoy conviven ambas fechas, con … [+6653 chars]'}, {'source': {'id': 'spiegel-online', 'name': 'Spiegel Online'}, 'author': 'SPIEGEL ONLINE', 'title': 'Sascha Lobo über Mobilfunknetze: Die Funklochgarantie', 'description': 'Die milliardenteure Versteigerung von Mobilfunkfrequenzen bremst den digitalen Ausbau in Deutschland aus, schrieb Sascha Lobo in seiner Kolumne. Im Podcast reagiert er auf Leserkommentare.', 'url': 'http://www.spiegel.de/netzwelt/netzpolitik/5g-der-generationenvertrag-der-funklochgarantie-a-1238840.html', 'urlToImage': 'http://cdn2.spiegel.de/images/image-1360915-860_poster_16x9-vhok-1360915.jpg', 'publishedAt': '2018-11-18T09:59:56Z', 'content': 'Sonntag, 18.11.2018 10:59 Uhr Eine funktionierende digitale Infrastruktur ist für Deutschlands Zukunft ebenso wichtig wie Versorgung von Haushalten und Betrieben mit Wasser und Strom, erklärte Sascha Lobo in seiner jüngsten Kolumne. Niemand käme auf die Idee,… [+1363 chars]'}, {'source': {'id': 'spiegel-online', 'name': 'Spiegel Online'}, 'author': 'Sandra Sperber, Yasemin Yüksel', 'title': 'Podcast \"Stimmenfang\": \"Raus aus der GroKo, Herr Klingbeil!\"', 'description': 'Der SPD laufen weiter Wähler davon. Warum? Wir haben den Generalsekretär und zwei ehemalige SPD-Wähler an einen Tisch gesetzt. Es geht um Renten-Frust, Bildungschancen und die AfD. Hören Sie das Streitgespräch im Podcast.', 'url': 'http://www.spiegel.de/politik/deutschland/lars-klingbeil-im-streitgespraech-mit-ehemaligen-spd-waehlern-a-1237226.html', 'urlToImage': 'http://cdn2.spiegel.de/images/image-1359749-860_poster_16x9-yoir-1359749.jpg', 'publishedAt': '2018-11-08T11:18:04Z', 'content': 'Donnerstag, 08.11.2018 12:18 Uhr Ingrid Neugebauer und Michael Winkelmann sind ehemalige SPD-Wähler, die sich inzwischen von der Partei abgewandt haben. Damit stehen sie für eine größere Entwicklung. Denn seit der Bundestagswahl im vergangenen Jahr laufen der… [+1454 chars]'}, {'source': {'id': 'spiegel-online', 'name': 'Spiegel Online'}, 'author': 'SPIEGEL ONLINE', 'title': 'Von Trump bis Maaßen: Darum sind verschwörerische Weltsichten gefährlich', 'description': '\"Vernetze dich, organisiere dich, wehre dich!\" In jeder Verschwörungsideologie sei ein Appell zur Mobilisierung verborgen, hat Sascha Lobo in seiner Kolumne geschrieben. Im Podcast reagiert er auf Leserkommentare.', 'url': 'http://www.spiegel.de/netzwelt/web/sascha-lobos-podcast-darum-sind-verschwoerungsideologien-gefaehrlich-a-1237605.html', 'urlToImage': 'http://cdn3.spiegel.de/images/image-1360806-860_poster_16x9-wfsw-1360806.jpg', 'publishedAt': '2018-11-11T10:07:00Z', 'content': 'Sonntag, 11.11.2018 11:07 Uhr Eine Verschwörungstheorie soll eine Verschwörung erklären, schrieb Sascha Lobo in seiner jüngsten Kolumne : \"Eine Verschwörungsideologie aber, ist eine eigene Weltsicht, bei der alle Informationen auf passende Weise einsortiert w… [+1422 chars]'}, {'source': {'id': None, 'name': 'Applesfera.com'}, 'author': 'Eduardo Archanco', 'title': 'Los altavoces Sonos se integran con Alexa para poder controlar tus reproducciones de Apple Music', 'description': 'A lo largo de la tarde de hoy, los usuarios de Sonos que tengan una suscripción de Apple Music asociada a su cuenta, podrán utilizar a Alexa para controlar sus reproducciones de música. Así lo hemos podido saber por parte de la compañía de altavoces y de prim…', 'url': 'https://www.applesfera.com/accesorios/altavoces-sonos-se-integran-alexa-para-poder-controlar-tus-reproducciones-apple-music', 'urlToImage': 'https://i.blogs.es/ade1bb/sonos-alexa-apple-music-1/840_560.jpeg', 'publishedAt': '2018-11-15T10:00:50Z', 'content': 'A lo largo de la tarde de hoy, los usuarios de Sonos que tengan una suscripción de Apple Music asociada a su cuenta, podrán utilizar a Alexa para controlar sus reproducciones de música. Así lo hemos podido saber por parte de la compañía de altavoces y de prim… [+3769 chars]'}, {'source': {'id': None, 'name': 'Xda-developers.com'}, 'author': 'Adam Conway', 'title': 'Students can now get discounted YouTube Premium and YouTube Music subscriptions', 'description': 'In a move which sees YouTube take aim at a new demographic, the platform will now offer discounted YouTube Premium and YouTube Music subscriptions for students, according to a report from TechCrunch. YouTube Red was rebranded as YouTube Premium earlier this y…', 'url': 'https://www.xda-developers.com/youtube-premium-youtube-music-student-discount/', 'urlToImage': 'https://www.xda-developers.com/files/2018/05/youtube-music-logo-1.png', 'publishedAt': '2018-11-27T16:30:11Z', 'content': 'In a move which sees YouTube take aim at a new demographic, the platform will now offer discounted YouTube Premium and YouTube Music subscriptions for students, according to a report from TechCrunch. YouTube Red was rebranded as YouTube Premium earlier this y… [+1855 chars]'}, {'source': {'id': None, 'name': 'Presse-citron.net'}, 'author': 'Louise Millon', 'title': 'Spotify, Apple Music… Quel service de streaming musical choisir ?', 'description': 'À ce jour, de nombreuses plateformes de streaming musical existent. Néanmoins, la multiplication de ces services rend la décision finale plus difficile puisque tous mettent en avant leur avantage concurrentiel. Nous vous proposons une petite liste des princip…', 'url': 'https://www.presse-citron.net/spotify-apple-music-quel-service-de-streaming-musical-choisir/', 'urlToImage': 'https://www.presse-citron.net/wordpress_prod/wp-content/uploads/2018/11/streaming-musical.jpg', 'publishedAt': '2018-11-21T11:45:15Z', 'content': 'Spotify Spotify est très certainement lune des plateformes de streaming musical les plus connues de cette liste. Après être entré en bourse il y a quelques mois, le service suédois a annoncé quil revendiquait désormais plus de 87 millions dutilisateurs payant… [+10367 chars]'}, {'source': {'id': None, 'name': 'Presse-citron.net'}, 'author': 'Vincent Bouvier', 'title': 'Jusqu’à 100€ de réduction chez Sonos pour Black Friday', 'description': \"Contrairement à beaucoup de marques, Sonos a choisi pour Black Friday d'appliquer une réduction égale chez tous les marchands. C'est le moment de vous équiper !\", 'url': 'https://www.presse-citron.net/sonos-black-friday/', 'urlToImage': 'https://www.presse-citron.net/wordpress_prod/wp-content/uploads/2018/11/Black-Friday-Sonos.jpg', 'publishedAt': '2018-11-22T08:22:40Z', 'content': 'La gamme Sonos est reconnue pour sa qualité sonore, mais surtout ses capacités multiroom. Pour Black Friday Sonos propose des réductions sur la Sonos One (30), la Beam (50) et le caisson de basse SUB (100). Si vous souhaitez choisir votre vendeur, voici la li… [+1425 chars]'}, {'source': {'id': None, 'name': 'Presse-citron.net'}, 'author': 'Emmanuel Ghesquier', 'title': 'Shazam se connecte désormais à Instagram Stories pour partager des chansons', 'description': 'L’application de reconnaissance musicale à succès, Shazam, permet désormais de partager très facilement des musiques sur Instagram Stories.', 'url': 'https://www.presse-citron.net/shazam-se-connecte-desormais-instagram-stories-pour-partager-des-chansons/', 'urlToImage': 'https://www.presse-citron.net/wordpress_prod/wp-content/uploads/2018/09/shazam.jpg', 'publishedAt': '2018-11-03T09:31:46Z', 'content': 'La dernière mise à jour 12.3 de lapplication de reconnaissance musicale, Shazam, et propriété dApple, permet désormais dajouter facilement des chansons à Instagram Stories. Un partage Shazam sur Instagram Stories très simple Lapplication dApple permettant de … [+2020 chars]'}, {'source': {'id': None, 'name': 'Presse-citron.net'}, 'author': 'Rédaction', 'title': 'Bon plan : la Microsoft Surface Pro 12,3″ à 899€ au lieu de 1449€', 'description': \"Pour le Black Friday, la tablette Microsoft Surface Pro 12,3 pouces est en très forte promotion à la Fnac lors d'une vente flash. 550€ peuvent être économisés.\", 'url': 'https://www.presse-citron.net/bon-plan-microsoft-surface-pro-12-3-899e-lieu-1449e/', 'urlToImage': 'https://www.presse-citron.net/wordpress_prod/wp-content/uploads/2018/11/microsoft-surface-pro.jpg', 'publishedAt': '2018-11-20T12:04:12Z', 'content': 'C’est le premier vrai bon plan sur la Microsoft Surface Pro lors de ce Black Friday : la tablette tactile 12,3 pouces avec un processeur Intel Core i5 de 7ème génération est en forte promotion à la Fnac et chez Darty. En l’occurrence, son prix chute de 1449 à… [+1722 chars]'}, {'source': {'id': None, 'name': 'Presse-citron.net'}, 'author': 'Rédaction', 'title': 'Black Friday Bose : casques et enceintes jusqu’à -55% en promotion', 'description': 'La gamme de produits audio Bose est en promotion pour Black Friday. Ci-dessous, vous trouverez tous les meilleurs plans pour acheter les dernières enceintes et les différents casques de la marque américaine de référence Bose.', 'url': 'https://www.presse-citron.net/black-friday-bose-casques-enceintes-jusqua-50-promotion/', 'urlToImage': 'https://www.presse-citron.net/wordpress_prod/wp-content/uploads/2018/11/black-friday-bose-audio.jpg', 'publishedAt': '2018-11-20T05:02:19Z', 'content': 'Les produits de la marque Bose enregistrent toujours un vif succès pendant le Black Friday. Cette année encore, les marchands font de très belles promotions sur les enceintes et casques audio du fabricant américain. On retrouve la plupart des références en pr… [+3238 chars]'}, {'source': {'id': None, 'name': 'Bgr.com'}, 'author': 'Maren Estrada', 'title': 'Here are all the Black Friday Fitbit deals you’ve been waiting for', 'description': \"Black Friday is thought of mainly as an opportunity to save money on all of your holiday shopping, but you can also think a bit further into the future. So many people make New Year's Resolutions to lose weight or get in shape, and there's no better tool to h…\", 'url': 'https://bgr.com/2018/11/23/black-friday-fitbit-deals-on-amazon/', 'urlToImage': 'https://boygeniusreport.files.wordpress.com/2018/04/fitbit-versa-smartwatch.jpg?quality=98&strip=all', 'publishedAt': '2018-11-23T19:03:28Z', 'content': 'Black Friday is thought of mainly as an opportunity to save money on all of your holiday shopping, but you can also think a bit further into the future. So many people make New Year’s Resolutions to lose weight or get in shape, and there’s no better tool to h… [+4918 chars]'}, {'source': {'id': None, 'name': 'Torrentfreak.com'}, 'author': 'Andy', 'title': 'Court Rules MusicMonster Stream-Ripping Service Illegal', 'description': 'A music service that scans Internet radio streams for specific music tracks, records them, and makes them available for download in MP3 format, has lost its case in a German court. The case, brought by Sony Music against MusicMonster.fm, ended with a declarat…', 'url': 'https://torrentfreak.com/court-rules-musicmonster-stream-ripping-service-illegal-181126/', 'urlToImage': 'https://torrentfreak.com/images/music-keys.jpg', 'publishedAt': '2018-11-26T17:13:38Z', 'content': 'A music service that scans Internet radio streams for specific music tracks, records them, and makes them available for download in MP3 format, has lost its case in a German court. The case, brought by Sony Music against MusicMonster.fm, ended with a declarat… [+3529 chars]'}, {'source': {'id': None, 'name': 'Muyinteresante.es'}, 'author': 'Juan Carlos F. Galindo', 'title': 'Cruenta batalla por conquistar el hogar inteligente, también en España', 'description': 'Google, Apple y Amazon ya han lanzado en España sus asistentes de voz para el hogar. Los últimos en aparecer, los Echo de Amazon, son los mas vendidos en todo el mundo.', 'url': 'https://www.muyinteresante.es/tecnologia/inteligencia-artificial/articulo/cruenta-batalla-por-conquistar-el-hogar-inteligente', 'urlToImage': 'https://estaticos.muyinteresante.es/uploads/images/article/5bdef8305bafe84e0b1ac972/echo-devices_0.jpg', 'publishedAt': '2018-11-06T00:00:00Z', 'content': 'Después de varios meses, por no decir años, de espera, ya están aquí. Google, Apple y Amazon ya han lanzado en España sus asistentes de voz para el hogar. Movistar lo hará antes de que concluya el año. Y Facebook a primeros del que viene. Los últimos en apare… [+10170 chars]'}, {'source': {'id': None, 'name': 'Imore.com'}, 'author': 'Bryan M Wolfe', 'title': 'Can you pair Ultimate Ears Boom 3 with Boom 2?', 'description': \"Best answer: Yes, Boom speakers are model agnostic. The Boom 3 will pair with the Boom 2, along with the original Boom, Megaboom, and Megaboom. Using Ultimate Ear's signature PartyUp feature, you can pair up to 150 speakers (!) to create the ultimate music li…\", 'url': 'https://www.imore.com/can-you-pair-ue-boom-3-ue-boom-2', 'urlToImage': 'https://www.imore.com/sites/imore.com/files/styles/large/public/field/image/2018/10/ue-boom-3-review-hero-02.jpg?itok=WgGMkBgD', 'publishedAt': '2018-11-22T20:00:02Z', 'content': \"Pairing is simple and satisfying With Ultimate Ears' PartyUp feature, you can invite all of your friends with a Boom or Megaboom to get together and jam (any Ultimate Ears speaker, really). In doing so, you can create one awesome amplified experience. You can… [+1718 chars]\"}, {'source': {'id': None, 'name': 'Gamasutra.com'}, 'author': None, 'title': 'Postmortem: The making of retro rhythm game Old School Musical', 'description': 'Enjoy this retrospective look at the seven years of work that went into Old School Musical, a charming rhythm game that pays loving tribute to retro games....', 'url': 'http://www.gamasutra.com/blogs/FrancoisBertrand/20181119/330932/Old_School_Musical_Post_Mortem__Developement.php', 'urlToImage': 'http://www.gamasutra.com/blogs/edit/img/portrait/1026832/portrait.jpg', 'publishedAt': '2018-11-28T08:59:00Z', 'content': 'The following blog post, unless otherwise noted, was written by a member of Gamasutra’s community. The thoughts and opinions expressed are those of the writer and not Gamasutra or its parent company. 8Bit The Musical Let’s go 7 years back in time. Hi. I’m Fra… [+17564 chars]'}]}\n"
     ]
    }
   ],
   "source": [
    "import requests\n",
    "\n",
    "url = ('https://newsapi.org/v2/everything?'\n",
    "       'q=DEEZER&'\n",
    "       'from=2018-11-01&'\n",
    "       'sortBy=popularity&'\n",
    "        \n",
    "       'apiKey=6916c709e9964e158887f7e67c445ed8')\n",
    "\n",
    "response = requests.get(url)\n",
    "\n",
    "print (response.json())\n"
   ]
  },
  {
   "cell_type": "code",
   "execution_count": 116,
   "metadata": {},
   "outputs": [],
   "source": [
    "import json\n",
    "with open('data.json', 'w') as outfile:\n",
    "    json.dump(response.json(), outfile)\n"
   ]
  },
  {
   "cell_type": "code",
   "execution_count": null,
   "metadata": {},
   "outputs": [],
   "source": []
  },
  {
   "cell_type": "code",
   "execution_count": null,
   "metadata": {},
   "outputs": [],
   "source": []
  },
  {
   "cell_type": "code",
   "execution_count": 135,
   "metadata": {},
   "outputs": [
    {
     "name": "stdout",
     "output_type": "stream",
     "text": [
      "ar\n",
      "de\n",
      "en\n",
      "es\n",
      "fr\n",
      "he\n",
      "it\n",
      "nl\n",
      "no\n",
      "pt\n",
      "ru\n"
     ]
    }
   ],
   "source": [
    "from newsapi import NewsApiClient\n",
    "\n",
    "newsapi = NewsApiClient(api_key='6916c709e9964e158887f7e67c445ed8')\n",
    "\n",
    "\n",
    "lang = ['ar','de' ,'en','es' ,'fr', 'he', 'it', 'nl', 'no' ,'pt', 'ru']\n",
    "\n",
    "for l in lang:\n",
    "    print(l)\n",
    "    res = newsapi.get_everything(q='Deezer',\n",
    "                                      from_param='2018-10-30',\n",
    "                                      to='2018-11-29',\n",
    "                                      language = l\n",
    "                                    )\n",
    "        \n",
    "    with open('deezer_'+l+'.json', 'w') as outfile:\n",
    "        json.dump(res, outfile, ensure_ascii=False)\n"
   ]
  },
  {
   "cell_type": "code",
   "execution_count": 131,
   "metadata": {},
   "outputs": [
    {
     "name": "stdout",
     "output_type": "stream",
     "text": [
      "ar\n",
      "de\n",
      "en\n",
      "es\n",
      "fr\n",
      "he\n",
      "it\n",
      "nl\n",
      "no\n",
      "pt\n",
      "ru\n"
     ]
    }
   ],
   "source": [
    "for l in lang:\n",
    "    print(l)\n",
    "    res = newsapi.get_everything(q= 'Spotify',\n",
    "                                      from_param='2018-11-01',\n",
    "                                      to='2018-11-29',\n",
    "                                      language = l,\n",
    "                                      sort_by='relevancy')\n",
    "        \n",
    "    with open('spotify_'+l+'.json', 'w') as outfile:\n",
    "        json.dump(res, outfile, ensure_ascii=False)\n"
   ]
  },
  {
   "cell_type": "code",
   "execution_count": 113,
   "metadata": {},
   "outputs": [],
   "source": [
    "import json\n",
    "\n",
    "with open('deezer.json', 'w') as outfile:\n",
    "    json.dump(deezer, outfile, ensure_ascii=False)"
   ]
  },
  {
   "cell_type": "code",
   "execution_count": null,
   "metadata": {},
   "outputs": [],
   "source": [
    "\n",
    "deezer = newsapi.get_everything(q= 'Deezer',\n",
    "                                      from_param='2018-11-29',\n",
    "                                      to='2018-11-30',\n",
    "                                      language = 'ar',\n",
    "                                      sort_by='relevancy')\n",
    "\n",
    "\n",
    "spotify = newsapi.get_everything(q= 'spotify',\n",
    "                                      from_param='2018-11-29',\n",
    "                                      to='2018-11-30',\n",
    "                                      language = 'ar',\n",
    "                                      sort_by='relevancy')\n",
    "spotify"
   ]
  },
  {
   "cell_type": "code",
   "execution_count": 114,
   "metadata": {},
   "outputs": [],
   "source": [
    "with open('spotify.json', 'w') as outfile:\n",
    "    json.dump(spotify, outfile, ensure_ascii=False)"
   ]
  },
  {
   "cell_type": "code",
   "execution_count": 133,
   "metadata": {},
   "outputs": [],
   "source": [
    "\n",
    "deezer = newsapi.get_everything(q= 'Deezer',\n",
    "                                      from_param='2018-11-01',\n",
    "                                      to='2018-11-29',\n",
    "                                      language = 'fr',\n",
    "                                      sort_by='relevancy')"
   ]
  },
  {
   "cell_type": "code",
   "execution_count": 134,
   "metadata": {},
   "outputs": [
    {
     "data": {
      "text/plain": [
       "{'status': 'ok',\n",
       " 'totalResults': 160,\n",
       " 'articles': [{'source': {'id': None, 'name': 'Lefigaro.fr'},\n",
       "   'author': 'Le figaro.fr',\n",
       "   'title': 'Brigitte, Hyphen Hyphen, Camelia Jordana... modernisent des tubes de Noël',\n",
       "   'description': \"La plateforme de streaming Deezer diffuse mardi son premier album de chansons de Noël revisitées. 29 artistes français reprennent à leur façon les tubes qui ont marqué les fêtes de fin d'année, de Tombe la neige à Last Christmas.\",\n",
       "   'url': 'http://www.lefigaro.fr/musique/2018/11/27/03006-20181127ARTFIG00199-brigitte-hyphen-hyphen-camelia-jordana-modernisent-des-tubes-de-noel.php',\n",
       "   'urlToImage': 'https://i.f1g.fr/media/figaro/805x453_crop/2018/11/27/XVM201a814c-f25c-11e8-aaaa-72154de5404a.jpg',\n",
       "   'publishedAt': '2018-11-27T15:33:24Z',\n",
       "   'content': \"La plateforme de streaming Deezer diffuse mardi son premier album de chansons de Noël revisitées. 29 artistes français reprennent à leur façon les tubes qui ont marqué les fêtes de fin d'année, de Tombe la neige à Last Christmas. Qui a dit que les musiques de… [+2077 chars]\"},\n",
       "  {'source': {'id': None, 'name': 'Presse-citron.net'},\n",
       "   'author': 'Louise Millon',\n",
       "   'title': 'Spotify, Apple Music… Quel service de streaming musical choisir ?',\n",
       "   'description': 'À ce jour, de nombreuses plateformes de streaming musical existent. Néanmoins, la multiplication de ces services rend la décision finale plus difficile puisque tous mettent en avant leur avantage concurrentiel. Nous vous proposons une petite liste des princip…',\n",
       "   'url': 'https://www.presse-citron.net/spotify-apple-music-quel-service-de-streaming-musical-choisir/',\n",
       "   'urlToImage': 'https://www.presse-citron.net/wordpress_prod/wp-content/uploads/2018/11/streaming-musical.jpg',\n",
       "   'publishedAt': '2018-11-21T11:45:15Z',\n",
       "   'content': 'Spotify Spotify est très certainement lune des plateformes de streaming musical les plus connues de cette liste. Après être entré en bourse il y a quelques mois, le service suédois a annoncé quil revendiquait désormais plus de 87 millions dutilisateurs payant… [+10367 chars]'},\n",
       "  {'source': {'id': None, 'name': 'Nextinpact.com'},\n",
       "   'author': 'La rédaction',\n",
       "   'title': 'Deezer sur Apple Watch : accès directs aux derniers titres écoutés, aux favoris et au Flow',\n",
       "   'description': \"Alors que Spotify a enfin mis en ligne la première mouture de son application pour l'Apple Watch, Deezer en profite pour mettre à jour la sienne. Parmi les nouveautés : « un écran d’accueil repensé, les pochettes de vos albums affichées dans Ma musique et une…\",\n",
       "   'url': 'https://www.nextinpact.com/brief/deezer-sur-apple-watch---acces-directs-aux-derniers-titres-ecoutes--aux-favoris-et-au-flow-6664.htm',\n",
       "   'urlToImage': 'https://cdn2.nextinpact.com/images/bd/wide-linked-media/21644.jpg',\n",
       "   'publishedAt': '2018-11-21T09:51:38Z',\n",
       "   'content': \"2018 est une année noire pour Free, qui a perdu des abonnés Freebox et Free Mobile au cours des deux derniers trimestres. En bourse, la capitalisation d'Iliad a été divisée par deux en moins d'un an. La Freebox V7, censée relancer la machine, se fait encore e… [+931 chars]\"},\n",
       "  {'source': {'id': None, 'name': 'Presse-citron.net'},\n",
       "   'author': 'Vincent Bouvier',\n",
       "   'title': 'Jusqu’à 100€ de réduction chez Sonos pour Black Friday',\n",
       "   'description': \"Contrairement à beaucoup de marques, Sonos a choisi pour Black Friday d'appliquer une réduction égale chez tous les marchands. C'est le moment de vous équiper !\",\n",
       "   'url': 'https://www.presse-citron.net/sonos-black-friday/',\n",
       "   'urlToImage': 'https://www.presse-citron.net/wordpress_prod/wp-content/uploads/2018/11/Black-Friday-Sonos.jpg',\n",
       "   'publishedAt': '2018-11-22T08:22:40Z',\n",
       "   'content': 'La gamme Sonos est reconnue pour sa qualité sonore, mais surtout ses capacités multiroom. Pour Black Friday Sonos propose des réductions sur la Sonos One (30), la Beam (50) et le caisson de basse SUB (100). Si vous souhaitez choisir votre vendeur, voici la li… [+1425 chars]'},\n",
       "  {'source': {'id': None, 'name': 'Presse-citron.net'},\n",
       "   'author': 'Emmanuel Ghesquier',\n",
       "   'title': 'Shazam se connecte désormais à Instagram Stories pour partager des chansons',\n",
       "   'description': 'L’application de reconnaissance musicale à succès, Shazam, permet désormais de partager très facilement des musiques sur Instagram Stories.',\n",
       "   'url': 'https://www.presse-citron.net/shazam-se-connecte-desormais-instagram-stories-pour-partager-des-chansons/',\n",
       "   'urlToImage': 'https://www.presse-citron.net/wordpress_prod/wp-content/uploads/2018/09/shazam.jpg',\n",
       "   'publishedAt': '2018-11-03T09:31:46Z',\n",
       "   'content': 'La dernière mise à jour 12.3 de lapplication de reconnaissance musicale, Shazam, et propriété dApple, permet désormais dajouter facilement des chansons à Instagram Stories. Un partage Shazam sur Instagram Stories très simple Lapplication dApple permettant de … [+2020 chars]'},\n",
       "  {'source': {'id': None, 'name': 'Presse-citron.net'},\n",
       "   'author': 'Rédaction',\n",
       "   'title': 'Bon plan : la Microsoft Surface Pro 12,3″ à 899€ au lieu de 1449€',\n",
       "   'description': \"Pour le Black Friday, la tablette Microsoft Surface Pro 12,3 pouces est en très forte promotion à la Fnac lors d'une vente flash. 550€ peuvent être économisés.\",\n",
       "   'url': 'https://www.presse-citron.net/bon-plan-microsoft-surface-pro-12-3-899e-lieu-1449e/',\n",
       "   'urlToImage': 'https://www.presse-citron.net/wordpress_prod/wp-content/uploads/2018/11/microsoft-surface-pro.jpg',\n",
       "   'publishedAt': '2018-11-20T12:04:12Z',\n",
       "   'content': 'C’est le premier vrai bon plan sur la Microsoft Surface Pro lors de ce Black Friday : la tablette tactile 12,3 pouces avec un processeur Intel Core i5 de 7ème génération est en forte promotion à la Fnac et chez Darty. En l’occurrence, son prix chute de 1449 à… [+1722 chars]'},\n",
       "  {'source': {'id': None, 'name': 'Frandroid.com'},\n",
       "   'author': 'Loup Lassinat-Foubert',\n",
       "   'title': 'Google Assistant, Home, la gamme Pixel, Project Stream… Vers un écosystème Google ? Le podcast en parle !',\n",
       "   'description': 'Le podcast Salut Techie revient pour un nouvel épisode ! La rédaction de FrAndroid accueille cette fois-ci Hardisk pour évoquer la convergence des appareils Google autour d’un écosystème. Google est réputé pour tester de nombreux produits et services, parfois…',\n",
       "   'url': 'https://www.frandroid.com/humanoid/emissions/545984_google-assistant-home-la-gamme-pixel-project-stream-vers-un-ecosysteme-google-le-podcast-en-parle',\n",
       "   'urlToImage': 'https://images.frandroid.com/wp-content/uploads/2018/11/p9140163-1000x750.jpg',\n",
       "   'publishedAt': '2018-11-04T12:00:26Z',\n",
       "   'content': 'Le podcast Salut Techie revient pour un nouvel épisode ! La rédaction de FrAndroid accueille cette fois-ci Hardisk pour évoquer la convergence des appareils Google autour d’un écosystème. Google est réputé pour tester de nombreux produits et services, parfois… [+1445 chars]'},\n",
       "  {'source': {'id': None, 'name': 'Frandroid.com'},\n",
       "   'author': 'Loup Lassinat-Foubert',\n",
       "   'title': 'Comment choisir son smartphone pour les photos ? On en parle dans notre podcast',\n",
       "   'description': 'Voici un nouvel épisode de notre podcast Salut Techie, où nous abordons un sujet qui vous tient particulièrement à coeur : la photo. Qu’est-ce qui définit un bon smartphone pour la photo et sur quels critères choisir son appareil ? Vous êtes nombreux à nous d…',\n",
       "   'url': 'https://www.frandroid.com/humanoid/emissions/550395_comment-choisir-son-smartphone-pour-les-photos-on-en-parle-dans-notre-podcast',\n",
       "   'urlToImage': 'https://images.frandroid.com/wp-content/uploads/2018/11/p9140163-1000x750.jpg',\n",
       "   'publishedAt': '2018-11-20T16:29:53Z',\n",
       "   'content': 'Voici un nouvel épisode de notre podcast Salut Techie, où nous abordons un sujet qui vous tient particulièrement à coeur : la photo. Qu’est-ce qui définit un bon smartphone pour la photo et sur quels critères choisir son appareil ? Vous êtes nombreux à nous d… [+1686 chars]'},\n",
       "  {'source': {'id': None, 'name': 'Lexpress.fr'},\n",
       "   'author': None,\n",
       "   'title': 'Olivier Nusse, d\\'Universal Music: les plateformes en ligne \"ont besoin de nous\"',\n",
       "   'description': 'Paris - Spotify, Deezer, iTunes... \"Les plateformes ne peuvent pas se passer de nous\", affirme à l\\'AFP Olivier Nusse, PDG d\\'Universal Music France (groupe Vivendi). Un lien réciproque, puisque les producteurs de musique dépendent des données sur les audiences…',\n",
       "   'url': 'https://lexpansion.lexpress.fr/actualites/1/actualite-economique/olivier-nusse-d-universal-music-les-plateformes-en-ligne-ont-besoin-de-nous_2046671.html',\n",
       "   'urlToImage': 'https://static.lexpress.fr/medias_11963/w_605,h_350,c_fill,g_north/v1541500641/olivier-nusse-pdg-d-universal-music-france-le-25-octobre-2018-au-siege-du-groupe_6125422.jpg',\n",
       "   'publishedAt': '2018-11-06T10:34:45Z',\n",
       "   'content': 'Accéder à cette mine d\\'or est devenu un sujet de négociation permanent entre producteurs et distributeurs. Mais les plateformes comme iTunes, et surtout les \" pure players \" comme Spotify ou Deezer, ont besoin des catalogues appartenant, pour l\\'essentiel, aux… [+3954 chars]'},\n",
       "  {'source': {'id': None, 'name': 'Clubic.com'},\n",
       "   'author': None,\n",
       "   'title': 'PC portable Microsoft Surface Laptop 13,5\" à 599\\x80 au lieu de 850\\x80 pour le Black Friday',\n",
       "   'description': \"Même si le Black Friday ne commence véritablement que demain, les boutiques en lignes semblent bien décidées à nous gâter en nous livrant dès aujourd'hui une pléthore d'offres fort intéressantes pour [...]\",\n",
       "   'url': 'https://www.clubic.com/black-friday/actualite-847634-pc-portable-microsoft-surface-laptop-13-5-599-lieu-850-black-friday.html',\n",
       "   'urlToImage': 'https://pic.clubic.com/v1/images/1684312/raw',\n",
       "   'publishedAt': '2018-11-22T09:30:56Z',\n",
       "   'content': \"Même si le Black Friday ne commence véritablement que demain, les boutiques en lignes semblent bien décidées à nous gâter en nous livrant dès aujourd'hui une pléthore d'offres fort intéressantes pour le portefeuille. Exemple avec la FNAC qui nous livre cette … [+787 chars]\"},\n",
       "  {'source': {'id': None, 'name': 'Clubic.com'},\n",
       "   'author': None,\n",
       "   'title': ' Le pack Nintendo Switch Super Smash Bros. Ultimate + Zelda Breath of the wild à 364 euros',\n",
       "   'description': \"Si vous avez envie de craquer pour la dernière console de Nintendo, mais que vous attendez l'offre adéquate, peut-être devriez-vous jeter un œil &agrave; ce bon plan proposé par la Fnac. L'enseigne propose...\",\n",
       "   'url': 'https://www.clubic.com/black-friday/actualite-847764-pack-nintendo-switch-super-smash-bros-ultimate-zelda-breath-wild-364-black-friday.html',\n",
       "   'urlToImage': 'https://pic.clubic.com/v1/images/1692453/raw',\n",
       "   'publishedAt': '2018-11-23T15:14:25Z',\n",
       "   'content': \"Si vous avez envie de craquer pour la dernière console de Nintendo, mais que vous attendez l'offre adéquate, peut-être devriez-vous jeter un il à ce bon plan proposé par la Fnac. L'enseigne propose en effet, sur sa boutique en ligne, un pack comprenant la Nin… [+1150 chars]\"},\n",
       "  {'source': {'id': None, 'name': 'Presse-citron.net'},\n",
       "   'author': 'Rédaction',\n",
       "   'title': 'Black Friday Bose : casques et enceintes jusqu’à -55% en promotion',\n",
       "   'description': 'La gamme de produits audio Bose est en promotion pour Black Friday. Ci-dessous, vous trouverez tous les meilleurs plans pour acheter les dernières enceintes et les différents casques de la marque américaine de référence Bose.',\n",
       "   'url': 'https://www.presse-citron.net/black-friday-bose-casques-enceintes-jusqua-50-promotion/',\n",
       "   'urlToImage': 'https://www.presse-citron.net/wordpress_prod/wp-content/uploads/2018/11/black-friday-bose-audio.jpg',\n",
       "   'publishedAt': '2018-11-20T05:02:19Z',\n",
       "   'content': 'Les produits de la marque Bose enregistrent toujours un vif succès pendant le Black Friday. Cette année encore, les marchands font de très belles promotions sur les enceintes et casques audio du fabricant américain. On retrouve la plupart des références en pr… [+3238 chars]'},\n",
       "  {'source': {'id': None, 'name': 'Begeek.fr'},\n",
       "   'author': 'Morgan Fromentin',\n",
       "   'title': 'Deezer met à jour son application Apple Watch',\n",
       "   'description': \"Deezer vient de mettre à jour son application à destination de l'Apple Watch. Au menu de cette version 2.0, de multiples améliorations et nouveautés plutôt bienvenues. Lire la suite\",\n",
       "   'url': 'https://www.begeek.fr/deezer-met-a-jour-son-application-apple-watch-299501',\n",
       "   'urlToImage': 'https://media.begeek.fr/2016/02/deezer.jpg',\n",
       "   'publishedAt': '2018-11-21T08:00:13Z',\n",
       "   'content': \"Deezer vient de mettre à jour son application à destination de l'Apple Watch. Au menu de cette version 2.0, de multiples améliorations et nouveautés plutôt bienvenues. La semaine dernière, Spotify lançait son application officielle pour l’Apple Watch. Celle-c… [+1437 chars]\"},\n",
       "  {'source': {'id': None, 'name': 'Leparisien.fr'},\n",
       "   'author': None,\n",
       "   'title': 'Bon plan : 20 % de remise sur l’enceinte intelligente Google Home',\n",
       "   'description': 'Objet intrigant lors de son arrivée dans le commerce l’année dernière, l’enceinte connectée dotée d’un assistant vocal a su s’installer paisiblement au domicile de ses possesseurs. Désormais ancré dans...',\n",
       "   'url': 'http://www.leparisien.fr/guide-shopping/bon-plan/bon-plan-20-de-remise-sur-l-enceinte-intelligente-google-home-07-11-2018-7937481.php',\n",
       "   'urlToImage': 'http://s1.lprs1.fr/images/2018/11/07/7937481_181107-le-parisien-google-home.jpg',\n",
       "   'publishedAt': '2018-11-07T17:52:57Z',\n",
       "   'content': \"Bon plan sélectionné et rédigé par ar/factory, partenaire du guide shopping Le Parisien. La rédaction n'a pas participé à sa réalisation. Objet intrigant lors de son arrivée dans le commerce lannée dernière, lenceinte connectée dotée dun assistant vocal a su … [+1802 chars]\"},\n",
       "  {'source': {'id': None, 'name': 'Lefigaro.fr'},\n",
       "   'author': 'lefigaro.fr',\n",
       "   'title': 'Black Friday 2018 Home Cinéma : tous les meilleurs bons plans !',\n",
       "   'description': 'Où trouver un Home Cinéma au meilleur prix ? Découvrez les meilleures PROMOS du BLACK FRIDAY 2018 sur les homes cinéma : Yamaha, Sonos, Sony&#8230; trouvez jusqu&#8217;à 47% de réduction sur les amplis et barres de son !',\n",
       "   'url': 'http://www.lefigaro.fr/services/2018/11/23/06011-20181123ARTWWW00240-promos-meilleures-offres-bons-plans-black-friday-yamaha-sonos-beam-sony-ampli.php',\n",
       "   'urlToImage': 'https://i.f1g.fr/media/ext/orig/www.lefigaro.fr/medias/2018/11/23/20181123PHOWWW00368.jpg',\n",
       "   'publishedAt': '2018-11-23T17:09:59Z',\n",
       "   'content': 'Où trouver un Home Cinéma au meilleur prix ? Découvrez les meilleures PROMOS du BLACK FRIDAY 2018 sur les homes cinéma : Yamaha, Sonos, Sony… trouvez jusqu’à 47% de réduction sur les amplis et barres de son ! Suivez en direct toutes nos offres sur LE LIVE BLA… [+3916 chars]'},\n",
       "  {'source': {'id': None, 'name': 'Frandroid.com'},\n",
       "   'author': 'Nicolas Luciu',\n",
       "   'title': ' Cyber Monday : l’enceinte LG ThinQ WK7 est à 99,99 euros au lieu de 149,99 chez Darty',\n",
       "   'description': 'L’enceinte connectée de LG, la ThinQ WK7, est à 99,99 euros chez Darty et sur Fnac.com au lieu de 149,99 euros pendant le Cyber Monday. Une bonne alternative au Google Home, surtout si vous privilégiez la qualité sonore. La LG ThinQ WK7 est une enceinte au de…',\n",
       "   'url': 'https://www.frandroid.com/bons-plans/bons-plans-objets-connectes/552461_cyber-monday-lenceinte-lg-thinq-wk7-est-a-9999-euros-au-lieu-de-14999-chez-darty',\n",
       "   'urlToImage': 'https://images.frandroid.com/wp-content/uploads/2018/11/couverture-9-4.jpg',\n",
       "   'publishedAt': '2018-11-26T14:15:49Z',\n",
       "   'content': 'L’enceinte connectée de LG, la ThinQ WK7, est à 99,99 euros chez Darty et sur Fnac.com au lieu de 149,99 euros pendant le Cyber Monday. Une bonne alternative au Google Home, surtout si vous privilégiez la qualité sonore. La LG ThinQ WK7 est une enceinte au de… [+3345 chars]'},\n",
       "  {'source': {'id': None, 'name': 'Mac4ever.com'},\n",
       "   'author': 'Denis, Didier, Ergo et Guillaume',\n",
       "   'title': 'Waze intègre un lecteur audio à sa navigation',\n",
       "   'description': \"Après quelques jours de bêta test, l'application Waze intègre un lecteur audio qui s'affiche sans gêner la navigation des utilisateurs.Waze 4.45 étrenne donc un nouveau bandeau qui s'affiche sur la partie haute de la carte, et qui donne accès aux services de …\",\n",
       "   'url': 'https://www.mac4ever.com/actu/138600_waze-integre-un-lecteur-audio-a-sa-navigation',\n",
       "   'urlToImage': 'https://www.mac4ever.com/images-articles/62627_.jpg',\n",
       "   'publishedAt': '2018-11-15T15:23:10Z',\n",
       "   'content': \"Après quelques jours de bêta test, l'application Waze intègre un lecteur audio qui s'affiche sans gêner la navigation des utilisateurs. Waze 4.45 étrenne donc un nouveau bandeau qui s'affiche sur la partie haute de la carte, et qui donne accès aux services de… [+890 chars]\"},\n",
       "  {'source': {'id': None, 'name': 'Universfreebox.com'},\n",
       "   'author': None,\n",
       "   'title': \"Blackpills (Xavier Niel) débarque chez un premier opérateur et ce n'est pas Free\",\n",
       "   'description': 'Le service de SVOD pour mobile de Xavier Niel, Patrick Holzman (ex-Allociné) et Daniel Marhely (Deezer) intègre le bouquet \"Pickle TV\" d\\'Orange, une première. En mars dernier, Blackpills en avait fait l\\'un de ses objectifs, à savoir tenter de signer des accor…',\n",
       "   'url': 'https://www.universfreebox.com/article/47281/Blackpills-Xavier-Niel-debarque-chez-un-premier-operateur-et-ce-n-est-pas-Free',\n",
       "   'urlToImage': 'https://www.universfreebox.com/UserFiles/image/Capture(216)(1)(2).png',\n",
       "   'publishedAt': '2018-11-20T16:02:07Z',\n",
       "   'content': \"RUBRIQUE COMMENTAIRE Bonjour, avant de poster, veuillez vous assurer d'avoir pris connaissance des règles. X Quatre consignes avant de réagir : Rester dans le cadre de l'article. Pour des discussions plus générales, vous pouvez utiliser nos forums. Développer… [+659 chars]\"},\n",
       "  {'source': {'id': None, 'name': 'Lesnumeriques.com'},\n",
       "   'author': 'Mathieu Chartier',\n",
       "   'title': \"Waze : Deezer et d'autres services musicaux vont rejoindre Spotify\",\n",
       "   'description': \"Bonne nouvelle pour les “Wazers” qui conduisent en musique, mais ne goûtent guère à Spotify. Ils devraient bientôt pouvoir intégrer leur plateforme de streaming préférée (sauf s'il s'agit d'Apple Music, voire de Tidal ou de Grouveshark).\",\n",
       "   'url': 'https://www.lesnumeriques.com/vie-du-net/waze-deezer-autres-services-musicaux-vont-rejoindre-spotify-n79859.html',\n",
       "   'urlToImage': 'https://dyw7ncnq1en5l.cloudfront.net/optim/news/79/79859/5bd9bff49ec5f.jpg',\n",
       "   'publishedAt': '2018-11-01T07:32:00Z',\n",
       "   'content': \"© Waze. Depuis quelque temps, les utilisateurs de Waze profitent d'une intégration croisée avec le service de streaming musical Spotify. En voiture, Spotify propose de lancer Waze (et inversement), tandis que la bascule entre les deux apps est facilitée. Auss… [+95 chars]\"},\n",
       "  {'source': {'id': None, 'name': 'Begeek.fr'},\n",
       "   'author': 'Nassim Chentouf',\n",
       "   'title': 'YouTube Premium et YouTube Music en réduction pour les étudiants',\n",
       "   'description': \"Jusqu'à -50% affiché pour les deux services ! Lire la suite\",\n",
       "   'url': 'https://www.begeek.fr/youtube-premium-et-youtube-music-en-reduction-pour-les-etudiants-300402',\n",
       "   'urlToImage': 'https://media.begeek.fr/2017/03/youtube.jpg',\n",
       "   'publishedAt': '2018-11-27T19:45:39Z',\n",
       "   'content': \"Jusqu'à -50% affiché pour les deux services ! Les réductions pour les étudiants sont courantes du côté des abonnements. Un moyen de rallier ces futurs acheteurs sans les ruiner pour profiter de leur entrée dans la vie active pour passer à un tarif normal : un… [+1428 chars]\"}]}"
      ]
     },
     "execution_count": 134,
     "metadata": {},
     "output_type": "execute_result"
    }
   ],
   "source": [
    "deezer"
   ]
  },
  {
   "cell_type": "code",
   "execution_count": null,
   "metadata": {},
   "outputs": [],
   "source": []
  }
 ],
 "metadata": {
  "kernelspec": {
   "display_name": "Python 3",
   "language": "python",
   "name": "python3"
  },
  "language_info": {
   "codemirror_mode": {
    "name": "ipython",
    "version": 3
   },
   "file_extension": ".py",
   "mimetype": "text/x-python",
   "name": "python",
   "nbconvert_exporter": "python",
   "pygments_lexer": "ipython3",
   "version": "3.7.0"
  }
 },
 "nbformat": 4,
 "nbformat_minor": 2
}
